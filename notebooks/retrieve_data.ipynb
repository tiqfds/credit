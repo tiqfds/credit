{
 "cells": [
  {
   "cell_type": "code",
   "execution_count": 1,
   "metadata": {},
   "outputs": [
    {
     "name": "stdout",
     "output_type": "stream",
     "text": [
      "Loading files\n",
      "CPU times: total: 875 ms\n",
      "Wall time: 1.59 s\n"
     ]
    }
   ],
   "source": [
    "%run -i \"utils.py\"\n",
    "\n",
    "DIR_INPUT='../data/processed/simulated-data-transformed/'\n",
    "\n",
    "TRAIN_BEGIN_DATE = \"2023-01-01\"\n",
    "TRAIN_END_DATE = \"2023-10-31\"\n",
    "\n",
    "TEST_BEGIN_DATE = \"2023-11-01\"\n",
    "TEST_END_DATE = \"2023-12-31\"\n",
    "\n",
    "SAMPLE_BEGIN_DATE = '2023-12-01'\n",
    "SAMPLE_END_DATE = '2023-12-31'\n",
    "\n",
    "print(\"Loading files\")\n",
    "# %time train_df = read_from_files(DIR_INPUT, TRAIN_BEGIN_DATE, TRAIN_END_DATE)\n",
    "# %time test_df = read_from_files(DIR_INPUT, TEST_BEGIN_DATE, TEST_END_DATE)\n",
    "%time sample_df = read_from_files(DIR_INPUT, SAMPLE_BEGIN_DATE, SAMPLE_END_DATE)\n",
    "\n",
    "# print(\"{0} transactions loaded as training data, containing {1} fraudulent transactions\".format(len(train_df),train_df.TX_FRAUD.sum()))\n",
    "# print(\"{0} transactions loaded as testing data, containing {1} fraudulent transactions\".format(len(test_df),test_df.TX_FRAUD.sum()))"
   ]
  },
  {
   "cell_type": "code",
   "execution_count": 2,
   "metadata": {},
   "outputs": [],
   "source": [
    "# cat_features = ['TRANSACTION_ID', 'CUSTOMER_ID', 'TERMINAL_ID', 'TX_FRAUD_SCENARIO']\n",
    "\n",
    "# train_df[cat_features] = train_df[cat_features].astype(\"category\")\n",
    "# test_df[cat_features] = test_df[cat_features].astype(\"category\")"
   ]
  },
  {
   "cell_type": "code",
   "execution_count": 3,
   "metadata": {},
   "outputs": [],
   "source": [
    "# train_df.info()"
   ]
  },
  {
   "cell_type": "code",
   "execution_count": 4,
   "metadata": {},
   "outputs": [],
   "source": [
    "# test_df.info()"
   ]
  },
  {
   "cell_type": "code",
   "execution_count": 5,
   "metadata": {},
   "outputs": [],
   "source": [
    "# train_df.tail()"
   ]
  },
  {
   "cell_type": "code",
   "execution_count": 6,
   "metadata": {},
   "outputs": [],
   "source": [
    "# test_df.head()"
   ]
  },
  {
   "cell_type": "code",
   "execution_count": 7,
   "metadata": {},
   "outputs": [],
   "source": [
    "# DIR_OUTPUT = \"../data/processed/train_test_data/\"\n",
    "# filename_output = '.feather'\n",
    "\n",
    "# if not os.path.exists(DIR_OUTPUT):\n",
    "#     os.makedirs(DIR_OUTPUT)\n",
    "\n",
    "# train_df.to_feather(DIR_OUTPUT+'train_data'+filename_output)\n",
    "# test_df.to_feather(DIR_OUTPUT+'test_data'+filename_output)"
   ]
  },
  {
   "cell_type": "code",
   "execution_count": 8,
   "metadata": {},
   "outputs": [],
   "source": [
    "DIR_OUTPUT = \"../frontend/\"\n",
    "filename_output = '.feather'\n",
    "\n",
    "if not os.path.exists(DIR_OUTPUT):\n",
    "    os.makedirs(DIR_OUTPUT)\n",
    "\n",
    "sample_df.to_feather(DIR_OUTPUT+'sample_data'+filename_output)"
   ]
  }
 ],
 "metadata": {
  "kernelspec": {
   "display_name": "laptop",
   "language": "python",
   "name": "python3"
  },
  "language_info": {
   "codemirror_mode": {
    "name": "ipython",
    "version": 3
   },
   "file_extension": ".py",
   "mimetype": "text/x-python",
   "name": "python",
   "nbconvert_exporter": "python",
   "pygments_lexer": "ipython3",
   "version": "3.11.7"
  }
 },
 "nbformat": 4,
 "nbformat_minor": 2
}
